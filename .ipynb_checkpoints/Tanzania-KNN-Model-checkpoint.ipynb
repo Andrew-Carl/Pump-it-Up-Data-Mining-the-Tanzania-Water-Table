{
 "cells": [
  {
   "cell_type": "code",
   "execution_count": 24,
   "metadata": {},
   "outputs": [],
   "source": [
    "import itertools\n",
    "import numpy as np\n",
    "import matplotlib.pyplot as plt\n",
    "from matplotlib.ticker import NullFormatter\n",
    "import pandas as pd\n",
    "from pandas.api.types import is_string_dtype, is_numeric_dtype\n",
    "import numpy as np\n",
    "import matplotlib.ticker as ticker\n",
    "from sklearn import preprocessing\n",
    "%matplotlib inline"
   ]
  },
  {
   "cell_type": "code",
   "execution_count": 2,
   "metadata": {},
   "outputs": [],
   "source": [
    "# Read in the cleaned data.\n",
    "df_train = pd.read_csv('./Datasets/clean_train_data.csv')\n",
    "df_test = pd.read_csv('./Datasets/clean_test_data.csv') "
   ]
  },
  {
   "cell_type": "code",
   "execution_count": 3,
   "metadata": {},
   "outputs": [
    {
     "data": {
      "text/plain": [
       "((59400, 27), (14850, 26))"
      ]
     },
     "execution_count": 3,
     "metadata": {},
     "output_type": "execute_result"
    }
   ],
   "source": [
    "# Check shape of each data table.\n",
    "df_train.shape, df_test.shape"
   ]
  },
  {
   "cell_type": "code",
   "execution_count": 4,
   "metadata": {},
   "outputs": [],
   "source": [
    "# Find columns with 'object' dtypes.\n",
    "cols = df_train.select_dtypes(exclude=[np.number])"
   ]
  },
  {
   "cell_type": "code",
   "execution_count": 6,
   "metadata": {},
   "outputs": [
    {
     "data": {
      "text/plain": [
       "['date_recorded',\n",
       " 'wpt_name',\n",
       " 'basin',\n",
       " 'region',\n",
       " 'lga',\n",
       " 'ward',\n",
       " 'construction_year',\n",
       " 'extraction_type_group',\n",
       " 'extraction_type_class',\n",
       " 'management',\n",
       " 'management_group',\n",
       " 'payment',\n",
       " 'quality_group',\n",
       " 'quantity',\n",
       " 'source',\n",
       " 'source_class',\n",
       " 'waterpoint_type',\n",
       " 'status_group']"
      ]
     },
     "execution_count": 6,
     "metadata": {},
     "output_type": "execute_result"
    }
   ],
   "source": [
    "# Show list of object columns.\n",
    "list(cols)"
   ]
  },
  {
   "cell_type": "code",
   "execution_count": 7,
   "metadata": {},
   "outputs": [],
   "source": [
    "# Exclude object columns. Find non-object columns.\n",
    "cols2 = df_train.select_dtypes(exclude=[np.object])"
   ]
  },
  {
   "cell_type": "code",
   "execution_count": 8,
   "metadata": {},
   "outputs": [
    {
     "data": {
      "text/plain": [
       "['id',\n",
       " 'amount_tsh',\n",
       " 'gps_height',\n",
       " 'longitude',\n",
       " 'latitude',\n",
       " 'num_private',\n",
       " 'region_code',\n",
       " 'district_code',\n",
       " 'population']"
      ]
     },
     "execution_count": 8,
     "metadata": {},
     "output_type": "execute_result"
    }
   ],
   "source": [
    "# Show list of numeric columns.\n",
    "list(cols2)"
   ]
  },
  {
   "cell_type": "code",
   "execution_count": 22,
   "metadata": {},
   "outputs": [],
   "source": [
    "# Change any columns of strings in a panda's dataframe to a column of\n",
    "# categorical values. This applies the changes inplace\n",
    "def train_cats(df):\n",
    "     for n,c in df.items():\n",
    "        if is_string_dtype(c): df[n] = c.astype('category').cat.as_ordered()"
   ]
  },
  {
   "cell_type": "code",
   "execution_count": 25,
   "metadata": {},
   "outputs": [],
   "source": [
    "train_cats(df_train)"
   ]
  },
  {
   "cell_type": "code",
   "execution_count": 26,
   "metadata": {},
   "outputs": [
    {
     "data": {
      "text/plain": [
       "array([dtype('int64'), dtype('float64'),\n",
       "       CategoricalDtype(categories=['2002-10-14', '2004-01-07', '2004-03-01', '2004-03-06',\n",
       "                  '2004-04-01', '2004-04-05', '2004-05-01', '2004-06-01',\n",
       "                  '2004-07-01', '2004-08-01',\n",
       "                  ...\n",
       "                  '2013-08-03', '2013-09-02', '2013-09-03', '2013-10-02',\n",
       "                  '2013-10-03', '2013-11-02', '2013-11-03', '2013-12-01',\n",
       "                  '2013-12-02', '2013-12-03'],\n",
       "                 ordered=True),\n",
       "       CategoricalDtype(categories=['24', 'A Kulwa', 'A Saidi', 'Abass', 'Abbas',\n",
       "                  'Abdala Hamisi', 'Abdala Mwandute', 'Abdalaa', 'Abdalah',\n",
       "                  'Abdalah Ali',\n",
       "                  ...\n",
       "                  'Zuieni', 'Zuleha', 'Zumba', 'Zumbawanu',\n",
       "                  'Zumbawanu Shuleni', 'Zungu', 'Zunguni', 'Zunzuli A Shuleni',\n",
       "                  'Zuwena Kindo', 'none'],\n",
       "                 ordered=True),\n",
       "       CategoricalDtype(categories=['Internal', 'Lake Nyasa', 'Lake Rukwa', 'Lake Tanganyika',\n",
       "                  'Lake Victoria', 'Pangani', 'Rufiji',\n",
       "                  'Ruvuma / Southern Coast', 'Wami / Ruvu'],\n",
       "                 ordered=True),\n",
       "       CategoricalDtype(categories=['Arusha', 'Dar es Salaam', 'Dodoma', 'Iringa', 'Kagera',\n",
       "                  'Kigoma', 'Kilimanjaro', 'Lindi', 'Manyara', 'Mara', 'Mbeya',\n",
       "                  'Morogoro', 'Mtwara', 'Mwanza', 'Pwani', 'Rukwa', 'Ruvuma',\n",
       "                  'Shinyanga', 'Singida', 'Tabora', 'Tanga'],\n",
       "                 ordered=True),\n",
       "       CategoricalDtype(categories=['Arusha Rural', 'Arusha Urban', 'Babati', 'Bagamoyo', 'Bahi',\n",
       "                  'Bariadi', 'Biharamulo', 'Bukoba Rural', 'Bukoba Urban',\n",
       "                  'Bukombe',\n",
       "                  ...\n",
       "                  'Tabora Urban', 'Tandahimba', 'Tanga', 'Tarime', 'Temeke',\n",
       "                  'Tunduru', 'Ukerewe', 'Ulanga', 'Urambo', 'Uyui'],\n",
       "                 ordered=True),\n",
       "       CategoricalDtype(categories=['Aghondi', 'Akheri', 'Arash', 'Arri', 'Arusha Chini',\n",
       "                  'Babayu', 'Badi', 'Badugu', 'Bahi', 'Balangidalalu',\n",
       "                  ...\n",
       "                  'Zagayu', 'Zanka', 'Ziba', 'Zinga/Ikerege', 'Zirai',\n",
       "                  'Ziwani', 'Zoissa', 'Zombo', 'Zongomera', 'Zuzu'],\n",
       "                 ordered=True),\n",
       "       CategoricalDtype(categories=['1960s', '1970s', '1980s', '1990s', '2000s', '2010s',\n",
       "                  'unknown'],\n",
       "                 ordered=True),\n",
       "       CategoricalDtype(categories=['afridev', 'gravity', 'india mark ii', 'india mark iii',\n",
       "                  'mono', 'nira/tanira', 'other', 'other handpump',\n",
       "                  'other motorpump', 'rope pump', 'submersible', 'swn 80',\n",
       "                  'wind-powered'],\n",
       "                 ordered=True),\n",
       "       CategoricalDtype(categories=['gravity', 'handpump', 'motorpump', 'other', 'rope pump',\n",
       "                  'submersible', 'wind-powered'],\n",
       "                 ordered=True),\n",
       "       CategoricalDtype(categories=['company', 'other', 'other - school', 'parastatal',\n",
       "                  'private operator', 'trust', 'unknown', 'vwc',\n",
       "                  'water authority', 'water board', 'wua', 'wug'],\n",
       "                 ordered=True),\n",
       "       CategoricalDtype(categories=['commercial', 'other', 'parastatal', 'unknown',\n",
       "                  'user-group'],\n",
       "                 ordered=True),\n",
       "       CategoricalDtype(categories=['never pay', 'other', 'pay annually', 'pay monthly',\n",
       "                  'pay per bucket', 'pay when scheme fails', 'unknown'],\n",
       "                 ordered=True),\n",
       "       CategoricalDtype(categories=['colored', 'fluoride', 'good', 'milky', 'salty', 'unknown'], ordered=True),\n",
       "       CategoricalDtype(categories=['dry', 'enough', 'insufficient', 'seasonal', 'unknown'], ordered=True),\n",
       "       CategoricalDtype(categories=['dam', 'hand dtw', 'lake', 'machine dbh', 'other',\n",
       "                  'rainwater harvesting', 'river', 'shallow well', 'spring',\n",
       "                  'unknown'],\n",
       "                 ordered=True),\n",
       "       CategoricalDtype(categories=['groundwater', 'surface', 'unknown'], ordered=True),\n",
       "       CategoricalDtype(categories=['cattle trough', 'communal standpipe',\n",
       "                  'communal standpipe multiple', 'dam', 'hand pump',\n",
       "                  'improved spring', 'other'],\n",
       "                 ordered=True),\n",
       "       CategoricalDtype(categories=['functional', 'functional needs repair', 'non functional'], ordered=True)],\n",
       "      dtype=object)"
      ]
     },
     "execution_count": 26,
     "metadata": {},
     "output_type": "execute_result"
    }
   ],
   "source": [
    "df_train.dtypes.unique()"
   ]
  },
  {
   "cell_type": "code",
   "execution_count": 19,
   "metadata": {},
   "outputs": [],
   "source": [
    "# Create dummy values.\n",
    "dummy_df = pd.get_dummies(df_train, columns = ['wpt_name',\n",
    "                                               'basin',\n",
    "                                               'region',\n",
    "                                               'lga',\n",
    "                                               'ward',\n",
    "                                               'construction_year',\n",
    "                                               'extraction_type_group',\n",
    "                                               'extraction_type_class',\n",
    "                                               'management',\n",
    "                                               'management_group',\n",
    "                                               'payment',\n",
    "                                               'quality_group',\n",
    "                                               'quantity',\n",
    "                                               'source',\n",
    "                                               'source_class',\n",
    "                                               'waterpoint_type'])"
   ]
  },
  {
   "cell_type": "code",
   "execution_count": 20,
   "metadata": {},
   "outputs": [
    {
     "data": {
      "text/plain": [
       "array(['functional', 'non functional', 'functional needs repair'],\n",
       "      dtype=object)"
      ]
     },
     "execution_count": 20,
     "metadata": {},
     "output_type": "execute_result"
    }
   ],
   "source": [
    "# Check independent variable. Make sure values are correct.\n",
    "df_train['status_group'].unique()"
   ]
  },
  {
   "cell_type": "code",
   "execution_count": null,
   "metadata": {},
   "outputs": [],
   "source": []
  },
  {
   "cell_type": "code",
   "execution_count": 15,
   "metadata": {},
   "outputs": [
    {
     "data": {
      "text/plain": [
       "array([dtype('int64'), dtype('float64'), dtype('O'), dtype('uint8')],\n",
       "      dtype=object)"
      ]
     },
     "execution_count": 15,
     "metadata": {},
     "output_type": "execute_result"
    }
   ],
   "source": [
    "# Check data types of new dummy dataframe to make sure categorical values are gone.\n",
    "dummy_df.dtypes.unique()"
   ]
  },
  {
   "cell_type": "code",
   "execution_count": 18,
   "metadata": {},
   "outputs": [
    {
     "data": {
      "text/plain": [
       "id                                               int64\n",
       "amount_tsh                                     float64\n",
       "date_recorded                                   object\n",
       "gps_height                                       int64\n",
       "longitude                                      float64\n",
       "latitude                                       float64\n",
       "num_private                                      int64\n",
       "region_code                                      int64\n",
       "district_code                                    int64\n",
       "lga                                             object\n",
       "ward                                            object\n",
       "population                                       int64\n",
       "status_group                                    object\n",
       "wpt_name_24                                      uint8\n",
       "wpt_name_A Kulwa                                 uint8\n",
       "wpt_name_A Saidi                                 uint8\n",
       "wpt_name_Abass                                   uint8\n",
       "wpt_name_Abbas                                   uint8\n",
       "wpt_name_Abdala Hamisi                           uint8\n",
       "wpt_name_Abdala Mwandute                         uint8\n",
       "wpt_name_Abdalaa                                 uint8\n",
       "wpt_name_Abdalah                                 uint8\n",
       "wpt_name_Abdalah Ali                             uint8\n",
       "wpt_name_Abdalah Mashaka                         uint8\n",
       "wpt_name_Abdalah Miliki                          uint8\n",
       "wpt_name_Abdalah Mwakibona                       uint8\n",
       "wpt_name_Abdalah Shombe                          uint8\n",
       "wpt_name_Abdalamani Mussa                        uint8\n",
       "wpt_name_Abdalla Nambambili                      uint8\n",
       "wpt_name_Abdallah Chingi                         uint8\n",
       "                                                ...   \n",
       "quality_group_fluoride                           uint8\n",
       "quality_group_good                               uint8\n",
       "quality_group_milky                              uint8\n",
       "quality_group_salty                              uint8\n",
       "quality_group_unknown                            uint8\n",
       "quantity_dry                                     uint8\n",
       "quantity_enough                                  uint8\n",
       "quantity_insufficient                            uint8\n",
       "quantity_seasonal                                uint8\n",
       "quantity_unknown                                 uint8\n",
       "source_dam                                       uint8\n",
       "source_hand dtw                                  uint8\n",
       "source_lake                                      uint8\n",
       "source_machine dbh                               uint8\n",
       "source_other                                     uint8\n",
       "source_rainwater harvesting                      uint8\n",
       "source_river                                     uint8\n",
       "source_shallow well                              uint8\n",
       "source_spring                                    uint8\n",
       "source_unknown                                   uint8\n",
       "source_class_groundwater                         uint8\n",
       "source_class_surface                             uint8\n",
       "source_class_unknown                             uint8\n",
       "waterpoint_type_cattle trough                    uint8\n",
       "waterpoint_type_communal standpipe               uint8\n",
       "waterpoint_type_communal standpipe multiple      uint8\n",
       "waterpoint_type_dam                              uint8\n",
       "waterpoint_type_hand pump                        uint8\n",
       "waterpoint_type_improved spring                  uint8\n",
       "waterpoint_type_other                            uint8\n",
       "Length: 37525, dtype: object"
      ]
     },
     "execution_count": 18,
     "metadata": {},
     "output_type": "execute_result"
    }
   ],
   "source": []
  },
  {
   "cell_type": "code",
   "execution_count": null,
   "metadata": {},
   "outputs": [],
   "source": []
  }
 ],
 "metadata": {
  "kernelspec": {
   "display_name": "Python 3",
   "language": "python",
   "name": "python3"
  },
  "language_info": {
   "codemirror_mode": {
    "name": "ipython",
    "version": 3
   },
   "file_extension": ".py",
   "mimetype": "text/x-python",
   "name": "python",
   "nbconvert_exporter": "python",
   "pygments_lexer": "ipython3",
   "version": "3.6.8"
  }
 },
 "nbformat": 4,
 "nbformat_minor": 2
}
